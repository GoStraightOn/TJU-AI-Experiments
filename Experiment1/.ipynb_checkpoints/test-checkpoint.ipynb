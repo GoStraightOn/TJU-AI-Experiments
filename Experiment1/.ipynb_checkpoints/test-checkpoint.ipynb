{
 "cells": [
  {
   "cell_type": "code",
   "execution_count": 1,
   "id": "234de693-296a-488f-87af-90cc776847bc",
   "metadata": {},
   "outputs": [
    {
     "name": "stdout",
     "output_type": "stream",
     "text": [
      "  1  2  3  4\n",
      "  5  6  7  8\n",
      "  9 10    11\n",
      " 13 14 15 12\n",
      "\n"
     ]
    }
   ],
   "source": [
    "from problems import FifteensNode\n",
    "input_str = \"\"\"\n",
    "1 2 3 4\n",
    "5 6 7 8\n",
    "9 10 0 11\n",
    "13 14 15 12\n",
    "\"\"\"\n",
    "fifteens_root = FifteensNode(input_str=input_str)\n",
    "print(fifteens_root)"
   ]
  },
  {
   "cell_type": "code",
   "execution_count": 2,
   "id": "61b33494-e787-4bdd-a900-f8e35b42d1a5",
   "metadata": {},
   "outputs": [
    {
     "name": "stdout",
     "output_type": "stream",
     "text": [
      " .  .  .  .  .  .  . \n",
      " .  .  .  .  .  .  . \n",
      " .  .  .  .  .  .  . \n",
      " .  .  .  .  .  .  . \n",
      " .  .  .  .  .  .  . \n",
      " .  .  .  .  .  .  . \n",
      " .  .  .  .  .  .  . \n"
     ]
    }
   ],
   "source": [
    "from problems import SuperqueensNode\n",
    "superqueens_root = SuperqueensNode(n=7)\n",
    "print(superqueens_root)"
   ]
  },
  {
   "cell_type": "code",
   "execution_count": 6,
   "id": "add53648-9ed9-4d4b-97dc-ffbee505d068",
   "metadata": {},
   "outputs": [
    {
     "name": "stdout",
     "output_type": "stream",
     "text": [
      "Parent Node:\n",
      "  1  2  3  4\n",
      "  5  6  7  8\n",
      "  9 10    11\n",
      " 13 14 15 12\n",
      "\n",
      "\n",
      "Child 1 :\n",
      "  1  2  3  4\n",
      "  5  6  7  8\n",
      "  9 10 15 11\n",
      " 13 14    12\n",
      "\n",
      "\n",
      "Child 2 :\n",
      "  1  2  3  4\n",
      "  5  6     8\n",
      "  9 10  7 11\n",
      " 13 14 15 12\n",
      "\n",
      "\n",
      "Child 3 :\n",
      "  1  2  3  4\n",
      "  5  6  7  8\n",
      "  9 10 11   \n",
      " 13 14 15 12\n",
      "\n",
      "\n",
      "Child 4 :\n",
      "  1  2  3  4\n",
      "  5  6  7  8\n",
      "  9    10 11\n",
      " 13 14 15 12\n",
      "\n"
     ]
    }
   ],
   "source": [
    "print('Parent Node:')\n",
    "print(fifteens_root)\n",
    "for i,child in enumerate(fifteens_root.generate_children()):\n",
    "    print('\\nChild',i+1,':')\n",
    "    print(child)"
   ]
  },
  {
   "cell_type": "code",
   "execution_count": 8,
   "id": "6f40c550-b28b-4baf-a2d2-e2d42c3c98e0",
   "metadata": {},
   "outputs": [
    {
     "name": "stdout",
     "output_type": "stream",
     "text": [
      "  1  2  3  4\n",
      "  5  6  7  8\n",
      "  9 10    11\n",
      " 13 14 15 12\n",
      "\n",
      "3.75\n"
     ]
    }
   ],
   "source": [
    "print(fifteens_root)\n",
    "print(fifteens_root.evaluate_heuristic())"
   ]
  },
  {
   "cell_type": "code",
   "execution_count": 9,
   "id": "003c50bc-fa44-4be4-b478-b727ae838e1a",
   "metadata": {},
   "outputs": [
    {
     "name": "stdout",
     "output_type": "stream",
     "text": [
      "Node 1 :\n",
      "  1  2  3  4\n",
      "  5  6  7  8\n",
      "  9 10    11\n",
      " 13 14 15 12\n",
      "\n",
      "Node 2 :\n",
      "  1  2  3  4\n",
      "  5  6  7  8\n",
      "  9 10 11   \n",
      " 13 14 15 12\n",
      "\n",
      "Node 3 :\n",
      "  1  2  3  4\n",
      "  5  6  7  8\n",
      "  9 10 11 12\n",
      " 13 14 15   \n",
      "\n"
     ]
    }
   ],
   "source": [
    "from search import Astar\n",
    "fifteens_path = Astar(fifteens_root)\n",
    "for i,node in enumerate(fifteens_path):\n",
    "    print('Node',i+1,':')\n",
    "    print(node)"
   ]
  },
  {
   "cell_type": "code",
   "execution_count": 10,
   "id": "fed76cad-723f-4a1a-aa5a-387c09fa4f4e",
   "metadata": {},
   "outputs": [
    {
     "name": "stdout",
     "output_type": "stream",
     "text": [
      "Node 1 :\n",
      " .  .  .  .  .  .  . \n",
      " .  .  .  .  .  .  . \n",
      " .  .  .  .  .  .  . \n",
      " .  .  .  .  .  .  . \n",
      " .  .  .  .  .  .  . \n",
      " .  .  .  .  .  .  . \n",
      " .  .  .  .  .  .  . \n",
      "\n",
      "Node 8 :\n",
      " Q  .  .  .  .  .  . \n",
      " .  .  .  .  Q  .  . \n",
      " .  Q  .  .  .  .  . \n",
      " .  .  .  .  .  Q  . \n",
      " .  .  Q  .  .  .  . \n",
      " .  .  .  .  .  .  Q \n",
      " .  .  .  Q  .  .  . \n"
     ]
    }
   ],
   "source": [
    "superqueens_path = Astar(superqueens_root)\n",
    "print('Node 1 :')\n",
    "print(superqueens_path[0])\n",
    "for i,node in enumerate(fifteens_path):\n",
    "    print('\\nNode',i+1,':')\n",
    "    print(node)"
   ]
  },
  {
   "cell_type": "code",
   "execution_count": null,
   "id": "ef6fd006-687f-41f4-96db-dff5b84a41ab",
   "metadata": {},
   "outputs": [],
   "source": []
  }
 ],
 "metadata": {
  "kernelspec": {
   "display_name": "Python 3 (ipykernel)",
   "language": "python",
   "name": "python3"
  },
  "language_info": {
   "codemirror_mode": {
    "name": "ipython",
    "version": 3
   },
   "file_extension": ".py",
   "mimetype": "text/x-python",
   "name": "python",
   "nbconvert_exporter": "python",
   "pygments_lexer": "ipython3",
   "version": "3.9.13"
  }
 },
 "nbformat": 4,
 "nbformat_minor": 5
}
